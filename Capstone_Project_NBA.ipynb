{
 "cells": [
  {
   "cell_type": "markdown",
   "metadata": {},
   "source": [
    "# ML Nanodegree Capstone: NBA Fantasy Prediction\n",
    "\n",
    "## Introduction to Problem\n",
    "In the US, the National Basketball Association (NBA), is one of the four major sports. There are many stats recorded in a basketball game, both offensive an defensive. Further, many other metrics can be compounded from the recorded stats. For instance, points are recorded as well as minutes played, so we can investigate points per minute.\n",
    "\n",
    "Additionally, fantasy sports, and more specifically, daily fantasy sports have become very popular as of late. In daily fantasy sports, a user selects about 8 basketball players that are playing that night. As many as hundreds of thousands of users pick a team on any given night. The entry fee to this daily tournament can range from 1 dollar to 100 dollars. Each player is rewarded a fantasy point value for stats recorded and the user that achieves the most fantasy points wins. In some tournaments, the users with the top 10% highest scores win some cash back.\n",
    "\n",
    "Therefore, if I can predict how many fantasy points a player will score on a given night, it can be very lucrative, which is a regression problem. However, this prediction needs to be better than simple strategies such as the average fantasy points for each player. Another test could examine if a player will surpass his average for the season on a given night, this would be a classifier problem.\n",
    "\n",
    "## How to go about Problem\n",
    "The website basketball-reference.com has historical data for every NBA player going back for decades. For this project, I have downloaded the plast 3 years of gamelog data for each player. I downloaded full seasons 2013-14, 2014-15 and 2015-16, which comprise of 82 potential games for each player (sometimes there are injuries) and about 480 active players in the season. Therefore, there are about 82 x 480 = 39,360 potential gamelogs per season. However, given that there are injuries the number of actual gamelogs will be lower. Further, many players don't actually play in a given night or play very infrequently. These players are likely not important as they won't be selected in leagues. Therefore, for 3 seasons, my guess is that there are about 10,000 gamelogs per season that would be interesting to investigate.\n",
    "\n",
    "Given this dataset, I would like to predict how many fantasy points a player achieves on a given night or if they surpass their season average, for games played in the 2016-17 season, which is the current season. The current season is only halfway complete to date. I have downloaded data through 26-Jan-2017, about 40 games. Therefore, I will train my models based on previous seasons and test the model on the current season.\n"
   ]
  },
  {
   "cell_type": "code",
   "execution_count": 1,
   "metadata": {
    "collapsed": false
   },
   "outputs": [
    {
     "name": "stderr",
     "output_type": "stream",
     "text": [
      "//anaconda/lib/python2.7/site-packages/sklearn/cross_validation.py:44: DeprecationWarning: This module was deprecated in version 0.18 in favor of the model_selection module into which all the refactored classes and functions are moved. Also note that the interface of the new CV iterators are different from that of this module. This module will be removed in 0.20.\n",
      "  \"This module will be removed in 0.20.\", DeprecationWarning)\n",
      "//anaconda/lib/python2.7/site-packages/sklearn/learning_curve.py:23: DeprecationWarning: This module was deprecated in version 0.18 in favor of the model_selection module into which all the functions are moved. This module will be removed in 0.20\n",
      "  DeprecationWarning)\n"
     ]
    }
   ],
   "source": [
    "#load the data\n",
    "import numpy as np\n",
    "import pandas as pd\n",
    "import visuals as vs\n",
    "from datetime import datetime\n",
    "date_format=\"%Y-%m-%d %H:%M:%S\"\n",
    "date_format2=\"%Y-%m-%d\"\n",
    "\n",
    "%matplotlib inline\n",
    "\n",
    "data_14_15=pd.read_csv('nba_14_15.csv')\n",
    "data_16_17=pd.read_csv('nba_16_17.csv')"
   ]
  },
  {
   "cell_type": "code",
   "execution_count": 2,
   "metadata": {
    "collapsed": false
   },
   "outputs": [],
   "source": [
    "full_data=pd.concat([data_14_15, data_16_17])"
   ]
  },
  {
   "cell_type": "code",
   "execution_count": 3,
   "metadata": {
    "collapsed": false
   },
   "outputs": [
    {
     "data": {
      "text/plain": [
       "73965"
      ]
     },
     "execution_count": 3,
     "metadata": {},
     "output_type": "execute_result"
    }
   ],
   "source": [
    "len(full_data)"
   ]
  },
  {
   "cell_type": "code",
   "execution_count": 4,
   "metadata": {
    "collapsed": false
   },
   "outputs": [
    {
     "data": {
      "text/html": [
       "<div>\n",
       "<table border=\"1\" class=\"dataframe\">\n",
       "  <thead>\n",
       "    <tr style=\"text-align: right;\">\n",
       "      <th></th>\n",
       "      <th>player</th>\n",
       "      <th>game_date</th>\n",
       "      <th>age</th>\n",
       "      <th>player_team</th>\n",
       "      <th>location</th>\n",
       "      <th>opp_team</th>\n",
       "      <th>result</th>\n",
       "      <th>gs</th>\n",
       "      <th>mp</th>\n",
       "      <th>fg</th>\n",
       "      <th>...</th>\n",
       "      <th>ast</th>\n",
       "      <th>stl</th>\n",
       "      <th>blk</th>\n",
       "      <th>tov</th>\n",
       "      <th>pf</th>\n",
       "      <th>pts</th>\n",
       "      <th>game_score</th>\n",
       "      <th>plus_minus</th>\n",
       "      <th>fantasy</th>\n",
       "      <th>year_end</th>\n",
       "    </tr>\n",
       "  </thead>\n",
       "  <tbody>\n",
       "    <tr>\n",
       "      <th>0</th>\n",
       "      <td>Quincy Acy</td>\n",
       "      <td>2014-10-29 00:00:00</td>\n",
       "      <td>24-023</td>\n",
       "      <td>NYK</td>\n",
       "      <td>H</td>\n",
       "      <td>CHI</td>\n",
       "      <td>L (-24)</td>\n",
       "      <td>0</td>\n",
       "      <td>21:28</td>\n",
       "      <td>3</td>\n",
       "      <td>...</td>\n",
       "      <td>1</td>\n",
       "      <td>0</td>\n",
       "      <td>1</td>\n",
       "      <td>2</td>\n",
       "      <td>4</td>\n",
       "      <td>6</td>\n",
       "      <td>3.4</td>\n",
       "      <td>-15</td>\n",
       "      <td>16.00</td>\n",
       "      <td>2015</td>\n",
       "    </tr>\n",
       "    <tr>\n",
       "      <th>1</th>\n",
       "      <td>Quincy Acy</td>\n",
       "      <td>2014-10-30 00:00:00</td>\n",
       "      <td>24-024</td>\n",
       "      <td>NYK</td>\n",
       "      <td>A</td>\n",
       "      <td>CLE</td>\n",
       "      <td>W (+5)</td>\n",
       "      <td>1</td>\n",
       "      <td>22:27</td>\n",
       "      <td>4</td>\n",
       "      <td>...</td>\n",
       "      <td>2</td>\n",
       "      <td>0</td>\n",
       "      <td>1</td>\n",
       "      <td>2</td>\n",
       "      <td>6</td>\n",
       "      <td>8</td>\n",
       "      <td>7.8</td>\n",
       "      <td>2</td>\n",
       "      <td>24.50</td>\n",
       "      <td>2015</td>\n",
       "    </tr>\n",
       "    <tr>\n",
       "      <th>2</th>\n",
       "      <td>Quincy Acy</td>\n",
       "      <td>2014-11-02 00:00:00</td>\n",
       "      <td>24-027</td>\n",
       "      <td>NYK</td>\n",
       "      <td>H</td>\n",
       "      <td>CHO</td>\n",
       "      <td>W (+3)</td>\n",
       "      <td>1</td>\n",
       "      <td>20:20</td>\n",
       "      <td>1</td>\n",
       "      <td>...</td>\n",
       "      <td>2</td>\n",
       "      <td>0</td>\n",
       "      <td>0</td>\n",
       "      <td>0</td>\n",
       "      <td>2</td>\n",
       "      <td>2</td>\n",
       "      <td>1.1</td>\n",
       "      <td>11</td>\n",
       "      <td>8.75</td>\n",
       "      <td>2015</td>\n",
       "    </tr>\n",
       "    <tr>\n",
       "      <th>3</th>\n",
       "      <td>Quincy Acy</td>\n",
       "      <td>2014-11-05 00:00:00</td>\n",
       "      <td>24-030</td>\n",
       "      <td>NYK</td>\n",
       "      <td>A</td>\n",
       "      <td>DET</td>\n",
       "      <td>L (-3)</td>\n",
       "      <td>0</td>\n",
       "      <td>13:42</td>\n",
       "      <td>0</td>\n",
       "      <td>...</td>\n",
       "      <td>1</td>\n",
       "      <td>0</td>\n",
       "      <td>1</td>\n",
       "      <td>2</td>\n",
       "      <td>1</td>\n",
       "      <td>0</td>\n",
       "      <td>0.9</td>\n",
       "      <td>-6</td>\n",
       "      <td>10.00</td>\n",
       "      <td>2015</td>\n",
       "    </tr>\n",
       "    <tr>\n",
       "      <th>4</th>\n",
       "      <td>Quincy Acy</td>\n",
       "      <td>2014-11-07 00:00:00</td>\n",
       "      <td>24-032</td>\n",
       "      <td>NYK</td>\n",
       "      <td>A</td>\n",
       "      <td>BRK</td>\n",
       "      <td>L (-11)</td>\n",
       "      <td>0</td>\n",
       "      <td>22:14</td>\n",
       "      <td>3</td>\n",
       "      <td>...</td>\n",
       "      <td>0</td>\n",
       "      <td>0</td>\n",
       "      <td>0</td>\n",
       "      <td>3</td>\n",
       "      <td>3</td>\n",
       "      <td>7</td>\n",
       "      <td>3.8</td>\n",
       "      <td>-15</td>\n",
       "      <td>16.75</td>\n",
       "      <td>2015</td>\n",
       "    </tr>\n",
       "  </tbody>\n",
       "</table>\n",
       "<p>5 rows × 31 columns</p>\n",
       "</div>"
      ],
      "text/plain": [
       "       player            game_date     age player_team location opp_team  \\\n",
       "0  Quincy Acy  2014-10-29 00:00:00  24-023         NYK        H      CHI   \n",
       "1  Quincy Acy  2014-10-30 00:00:00  24-024         NYK        A      CLE   \n",
       "2  Quincy Acy  2014-11-02 00:00:00  24-027         NYK        H      CHO   \n",
       "3  Quincy Acy  2014-11-05 00:00:00  24-030         NYK        A      DET   \n",
       "4  Quincy Acy  2014-11-07 00:00:00  24-032         NYK        A      BRK   \n",
       "\n",
       "    result  gs     mp  fg    ...     ast  stl  blk  tov  pf  pts  game_score  \\\n",
       "0  L (-24)   0  21:28   3    ...       1    0    1    2   4    6         3.4   \n",
       "1   W (+5)   1  22:27   4    ...       2    0    1    2   6    8         7.8   \n",
       "2   W (+3)   1  20:20   1    ...       2    0    0    0   2    2         1.1   \n",
       "3   L (-3)   0  13:42   0    ...       1    0    1    2   1    0         0.9   \n",
       "4  L (-11)   0  22:14   3    ...       0    0    0    3   3    7         3.8   \n",
       "\n",
       "   plus_minus  fantasy  year_end  \n",
       "0         -15    16.00      2015  \n",
       "1           2    24.50      2015  \n",
       "2          11     8.75      2015  \n",
       "3          -6    10.00      2015  \n",
       "4         -15    16.75      2015  \n",
       "\n",
       "[5 rows x 31 columns]"
      ]
     },
     "execution_count": 4,
     "metadata": {},
     "output_type": "execute_result"
    }
   ],
   "source": [
    "full_data.head()"
   ]
  },
  {
   "cell_type": "code",
   "execution_count": 5,
   "metadata": {
    "collapsed": false
   },
   "outputs": [
    {
     "name": "stdout",
     "output_type": "stream",
     "text": [
      "the minimum year is: 2014\n",
      "the maximum year is: 2017\n",
      "the first game is: 2013-10-29 00:00:00\n",
      "the last game is: 2017-01-27 00:00:00\n"
     ]
    }
   ],
   "source": [
    "print(\"the minimum year is: \" + str(min(full_data['year_end'])))\n",
    "print(\"the maximum year is: \" + str(max(full_data['year_end'])))\n",
    "print(\"the first game is: \"+ str(min(full_data['game_date'])))\n",
    "print(\"the last game is: \"+ str(max(full_data['game_date'])))"
   ]
  },
  {
   "cell_type": "code",
   "execution_count": 6,
   "metadata": {
    "collapsed": false
   },
   "outputs": [],
   "source": [
    "train_data=full_data[full_data['year_end']<2017]\n",
    "test_data=full_data[full_data['year_end']==2017]"
   ]
  },
  {
   "cell_type": "code",
   "execution_count": 7,
   "metadata": {
    "collapsed": false
   },
   "outputs": [],
   "source": [
    "sort_train=train_data.sort_values(by=['player','game_date'], axis=0, ascending=True)\n",
    "sort_test=test_data.sort_values(by=['player','game_date'], axis=0, ascending=True)"
   ]
  },
  {
   "cell_type": "markdown",
   "metadata": {
    "collapsed": false
   },
   "source": [
    "## Adding the rolling data\n",
    "\n",
    "Adding a rolling mean for the past 10 games and past 3 games to see if this data informs us of how well a player will play tonight."
   ]
  },
  {
   "cell_type": "code",
   "execution_count": 8,
   "metadata": {
    "collapsed": false
   },
   "outputs": [],
   "source": [
    "def add_avg(dataset, stat, roll):\n",
    "    dataset['avg'+str(roll)+stat]=dataset.groupby('player')[stat].rolling(window=roll).mean().shift(1).values"
   ]
  },
  {
   "cell_type": "code",
   "execution_count": 9,
   "metadata": {
    "collapsed": true
   },
   "outputs": [],
   "source": [
    "def add_opp(dataset, stat, roll):\n",
    "    dataset['avg '+str(roll)+stat]=dataset.groupby('opp_team')[stat].rolling(window=roll).mean().shift(1).values"
   ]
  },
  {
   "cell_type": "code",
   "execution_count": 10,
   "metadata": {
    "collapsed": true
   },
   "outputs": [],
   "source": [
    "unique_players=full_data.player.unique()\n",
    "unique_teams=full_data.opp_team.unique()"
   ]
  },
  {
   "cell_type": "code",
   "execution_count": 11,
   "metadata": {
    "collapsed": false,
    "scrolled": true
   },
   "outputs": [
    {
     "name": "stderr",
     "output_type": "stream",
     "text": [
      "/anaconda/lib/python2.7/site-packages/ipykernel/__main__.py:2: SettingWithCopyWarning: \n",
      "A value is trying to be set on a copy of a slice from a DataFrame.\n",
      "Try using .loc[row_indexer,col_indexer] = value instead\n",
      "\n",
      "See the caveats in the documentation: http://pandas.pydata.org/pandas-docs/stable/indexing.html#indexing-view-versus-copy\n",
      "  from ipykernel import kernelapp as app\n",
      "/anaconda/lib/python2.7/site-packages/ipykernel/__main__.py:22: SettingWithCopyWarning: \n",
      "A value is trying to be set on a copy of a slice from a DataFrame.\n",
      "Try using .loc[row_indexer,col_indexer] = value instead\n",
      "\n",
      "See the caveats in the documentation: http://pandas.pydata.org/pandas-docs/stable/indexing.html#indexing-view-versus-copy\n",
      "/anaconda/lib/python2.7/site-packages/ipykernel/__main__.py:23: SettingWithCopyWarning: \n",
      "A value is trying to be set on a copy of a slice from a DataFrame.\n",
      "Try using .loc[row_indexer,col_indexer] = value instead\n",
      "\n",
      "See the caveats in the documentation: http://pandas.pydata.org/pandas-docs/stable/indexing.html#indexing-view-versus-copy\n"
     ]
    }
   ],
   "source": [
    "new_df=pd.DataFrame()\n",
    "for i in range(0,len(unique_players)):\n",
    "    player_df=sort_train[sort_train['player']==unique_players[i]]\n",
    "    add_avg(player_df,\"pts\",10)\n",
    "    add_avg(player_df, \"fantasy\",10)\n",
    "    add_avg(player_df, \"plus_minus\",10)\n",
    "    #add_avg(player_df, \"ast\",10)\n",
    "    #add_avg(player_df, \"trb\",10)\n",
    "    #add_avg(player_df, \"stl\",10)\n",
    "    #add_avg(player_df, \"blk\",10)\n",
    "    add_avg(player_df, \"fgp\",10)\n",
    "    add_avg(player_df, \"p3p\",10)\n",
    "    add_avg(player_df,\"pts\",3)\n",
    "    add_avg(player_df, \"fantasy\",3)\n",
    "    add_avg(player_df, \"plus_minus\",3)\n",
    "    #add_avg(player_df, \"ast\",3)\n",
    "    #add_avg(player_df, \"trb\",3)\n",
    "    #add_avg(player_df, \"stl\",3)\n",
    "    #add_avg(player_df, \"blk\",3)\n",
    "    add_avg(player_df, \"fgp\",3)\n",
    "    add_avg(player_df, \"p3p\",3)\n",
    "    player_df['rest_days']=pd.to_datetime(player_df['game_date'],format=date_format).values-pd.to_datetime(player_df['game_date'],format=date_format).shift(1).values\n",
    "    player_df['rest']=(player_df['rest_days'].dt.total_seconds() / (24 * 60 * 60)).values\n",
    "    new_df=new_df.append(player_df)"
   ]
  },
  {
   "cell_type": "markdown",
   "metadata": {
    "collapsed": false
   },
   "source": [
    "## Create data for the opposition fantasy"
   ]
  },
  {
   "cell_type": "code",
   "execution_count": 12,
   "metadata": {
    "collapsed": true
   },
   "outputs": [],
   "source": [
    "opp_data=pd.DataFrame({'opp_sum_fantasy':sort_train.groupby(['opp_team','game_date'])['fantasy'].sum()}).reset_index()"
   ]
  },
  {
   "cell_type": "code",
   "execution_count": 13,
   "metadata": {
    "collapsed": false
   },
   "outputs": [
    {
     "name": "stderr",
     "output_type": "stream",
     "text": [
      "/anaconda/lib/python2.7/site-packages/ipykernel/__main__.py:2: SettingWithCopyWarning: \n",
      "A value is trying to be set on a copy of a slice from a DataFrame.\n",
      "Try using .loc[row_indexer,col_indexer] = value instead\n",
      "\n",
      "See the caveats in the documentation: http://pandas.pydata.org/pandas-docs/stable/indexing.html#indexing-view-versus-copy\n",
      "  from ipykernel import kernelapp as app\n"
     ]
    }
   ],
   "source": [
    "teams_df=pd.DataFrame()\n",
    "for i in range(0,len(unique_teams)):\n",
    "    team_df=opp_data[opp_data['opp_team']==unique_teams[i]]\n",
    "    add_opp(team_df,'opp_sum_fantasy',10)\n",
    "    teams_df=teams_df.append(team_df)"
   ]
  },
  {
   "cell_type": "code",
   "execution_count": 14,
   "metadata": {
    "collapsed": true
   },
   "outputs": [],
   "source": [
    "final_data=pd.merge(new_df, teams_df, on=['opp_team', 'game_date'], how='left')"
   ]
  },
  {
   "cell_type": "code",
   "execution_count": 15,
   "metadata": {
    "collapsed": true
   },
   "outputs": [],
   "source": [
    "final_data.to_csv(\"nba_train.csv\")"
   ]
  },
  {
   "cell_type": "markdown",
   "metadata": {},
   "source": [
    "## Remove the stats\n",
    "\n",
    "Now I will remove the stats from the game and just concentrate on the rolling averages going into the game, the game location and the fantasy points scored in the game."
   ]
  },
  {
   "cell_type": "code",
   "execution_count": 16,
   "metadata": {
    "collapsed": false
   },
   "outputs": [],
   "source": [
    "features = final_data.drop(['player','game_date','age','player_team','opp_team','result',\n",
    "                            'gs','mp','fg','fga','fgp','ft','fta','ftp','ast','orb','drb','trb',\n",
    "                            'stl','blk','p3','p3a','p3p','pts','plus_minus',\n",
    "                            'game_score','year_end','tov','pf','opp_sum_fantasy', 'rest_days'], axis=1)\n",
    "features_clean=features.dropna()"
   ]
  },
  {
   "cell_type": "markdown",
   "metadata": {},
   "source": [
    "## Let's examine the fantasy scores\n",
    "\n",
    "It's important to understand the scale and distribution of the fantasy scores in a game. Further, we want to help predict players that are going to score a lot of points, while predicting that a player will not perform well can be helpful, we prefer to build a model to predict when a player will do well. Additionally, I am not too interested in players that don't score many fantasy points as having good accuracy there isn't beneficial."
   ]
  },
  {
   "cell_type": "code",
   "execution_count": 17,
   "metadata": {
    "collapsed": false
   },
   "outputs": [
    {
     "name": "stdout",
     "output_type": "stream",
     "text": [
      "max fantasy in a game: 93.5\n",
      "min fantasy in a game: -1.5\n",
      "average fantasy in a game: 22.4108284857\n",
      "std dev fantasy in a game: 13.7691437676\n",
      "highest fantasy average over last 10 games: 69.0\n",
      "games above average: 25347\n"
     ]
    }
   ],
   "source": [
    "print(\"max fantasy in a game: \" + str(max(features_clean['fantasy'])))\n",
    "print(\"min fantasy in a game: \" + str(min(features_clean['fantasy'])))\n",
    "print(\"average fantasy in a game: \" + str(np.mean(features_clean['fantasy'])))\n",
    "print(\"std dev fantasy in a game: \"+str(np.std(features_clean['fantasy'])))\n",
    "print(\"highest fantasy average over last 10 games: \" + str(max(features_clean['avg10fantasy'])))\n",
    "print(\"games above average: \" + str(len(features_clean[features_clean['fantasy']>np.mean(features_clean['fantasy'])])))"
   ]
  },
  {
   "cell_type": "markdown",
   "metadata": {},
   "source": [
    "## Create a Fantasy and Features dataframe for all observations"
   ]
  },
  {
   "cell_type": "code",
   "execution_count": 18,
   "metadata": {
    "collapsed": true
   },
   "outputs": [],
   "source": [
    "fantasy = features_clean['fantasy']\n",
    "features_final= features_clean.drop('fantasy',axis=1)"
   ]
  },
  {
   "cell_type": "markdown",
   "metadata": {},
   "source": [
    "## Create a Fantasy and Features dataframe for the best scores\n",
    "\n",
    "As mentioned earlier, I would like a model that predicts the fantasy scores far in the right tail of the distribution. If I can predict these scores accurately, then I can build a strong team that will outperform. Therefore, I am going the trim the dataset into a fantasy and feature one standard deviation from the mean as well as two standard deviations from the mean."
   ]
  },
  {
   "cell_type": "code",
   "execution_count": 19,
   "metadata": {
    "collapsed": false
   },
   "outputs": [],
   "source": [
    "features_avg=features_clean[features_clean['fantasy']>np.mean(features_clean['fantasy'])]\n",
    "fantasy_avg=features_avg['fantasy']\n",
    "features_avg_final=features_avg.drop('fantasy', axis=1)"
   ]
  },
  {
   "cell_type": "code",
   "execution_count": 20,
   "metadata": {
    "collapsed": false
   },
   "outputs": [],
   "source": [
    "features_one_sd=features_clean[features_clean['fantasy']>np.mean(features_clean['fantasy'])+np.std(features_clean['fantasy'])]\n",
    "fantasy_one_sd=features_one_sd['fantasy']\n",
    "features_one_sd_final=features_one_sd.drop('fantasy', axis=1)"
   ]
  },
  {
   "cell_type": "markdown",
   "metadata": {},
   "source": [
    "## Need to change the game location to numeric"
   ]
  },
  {
   "cell_type": "code",
   "execution_count": 21,
   "metadata": {
    "collapsed": false
   },
   "outputs": [],
   "source": [
    "features_final.replace(['H','A'],[1,0], inplace=True)\n",
    "features_avg_final.replace(['H','A'],[1,0], inplace=True)\n",
    "features_one_sd_final.replace(['H','A'],[1,0], inplace=True)"
   ]
  },
  {
   "cell_type": "code",
   "execution_count": 22,
   "metadata": {
    "collapsed": true
   },
   "outputs": [],
   "source": [
    "from sklearn.metrics import r2_score\n",
    "\n",
    "def performance_metric_r2(y_true, y_predict):\n",
    "    \"\"\" Calculates and returns the performance score between \n",
    "        true and predicted values based on the metric chosen. \"\"\"\n",
    "    \n",
    "    score = r2_score(y_true, y_predict)\n",
    "    \n",
    "    # Return the score\n",
    "    return score"
   ]
  },
  {
   "cell_type": "code",
   "execution_count": 23,
   "metadata": {
    "collapsed": true
   },
   "outputs": [],
   "source": [
    "from sklearn import cross_validation\n",
    "X_train, X_test, y_train, y_test = cross_validation.train_test_split(\n",
    "    features_final, fantasy, test_size=0.2, random_state=0)\n",
    "X_train1, X_test1, y_train1, y_test1 = cross_validation.train_test_split(\n",
    "    features_avg_final, fantasy_avg, test_size=0.2, random_state=0)\n",
    "X_train2, X_test2, y_train2, y_test2 = cross_validation.train_test_split(\n",
    "    features_one_sd_final, fantasy_one_sd, test_size=0.2, random_state=0)\n"
   ]
  },
  {
   "cell_type": "code",
   "execution_count": 24,
   "metadata": {
    "collapsed": false
   },
   "outputs": [
    {
     "data": {
      "image/png": "[encoded data removed]",
      "text/plain": [
       "<matplotlib.figure.Figure at 0x1106c1a10>"
      ]
     },
     "metadata": {},
     "output_type": "display_data"
    }
   ],
   "source": [
    "vs.ModelLearning(features_final, fantasy)"
   ]
  },
  {
   "cell_type": "code",
   "execution_count": 25,
   "metadata": {
    "collapsed": false
   },
   "outputs": [
    {
     "data": {
      "image/png": "[encoded data removed]",
      "text/plain": [
       "<matplotlib.figure.Figure at 0x115f29190>"
      ]
     },
     "metadata": {},
     "output_type": "display_data"
    }
   ],
   "source": [
    "vs.ModelLearning(features_avg_final, fantasy_avg)"
   ]
  },
  {
   "cell_type": "code",
   "execution_count": 26,
   "metadata": {
    "collapsed": false
   },
   "outputs": [
    {
     "data": {
      "image/png": "[encoded data removed]",
      "text/plain": [
       "<matplotlib.figure.Figure at 0x11ee8ffd0>"
      ]
     },
     "metadata": {},
     "output_type": "display_data"
    }
   ],
   "source": [
    "vs.ModelLearning(features_one_sd_final, fantasy_one_sd)"
   ]
  },
  {
   "cell_type": "code",
   "execution_count": 27,
   "metadata": {
    "collapsed": false,
    "scrolled": true
   },
   "outputs": [
    {
     "data": {
      "image/png": "[encoded data removed]",
      "text/plain": [
       "<matplotlib.figure.Figure at 0x11f5d5210>"
      ]
     },
     "metadata": {},
     "output_type": "display_data"
    }
   ],
   "source": [
    "vs.ModelComplexity(X_train, y_train)"
   ]
  },
  {
   "cell_type": "code",
   "execution_count": 28,
   "metadata": {
    "collapsed": false
   },
   "outputs": [
    {
     "data": {
      "image/png": "[encoded data removed]",
      "text/plain": [
       "<matplotlib.figure.Figure at 0x115f3c790>"
      ]
     },
     "metadata": {},
     "output_type": "display_data"
    }
   ],
   "source": [
    "vs.ModelComplexity(X_train1, y_train1)"
   ]
  },
  {
   "cell_type": "code",
   "execution_count": 29,
   "metadata": {
    "collapsed": false
   },
   "outputs": [
    {
     "data": {
      "image/png": "[encoded data removed]",
      "text/plain": [
       "<matplotlib.figure.Figure at 0x10febead0>"
      ]
     },
     "metadata": {},
     "output_type": "display_data"
    }
   ],
   "source": [
    "vs.ModelComplexity(X_train2, y_train2)"
   ]
  },
  {
   "cell_type": "code",
   "execution_count": 30,
   "metadata": {
    "collapsed": false
   },
   "outputs": [
    {
     "name": "stderr",
     "output_type": "stream",
     "text": [
      "//anaconda/lib/python2.7/site-packages/sklearn/grid_search.py:43: DeprecationWarning: This module was deprecated in version 0.18 in favor of the model_selection module into which all the refactored classes and functions are moved. This module will be removed in 0.20.\n",
      "  DeprecationWarning)\n"
     ]
    }
   ],
   "source": [
    "from sklearn.metrics import make_scorer\n",
    "from sklearn.cross_validation import ShuffleSplit\n",
    "from sklearn.tree import DecisionTreeRegressor\n",
    "from sklearn.ensemble import GradientBoostingRegressor\n",
    "from sklearn import svm, grid_search\n",
    "from time import time\n",
    "\n",
    "def fit_Tree_model(X, y):\n",
    "    \"\"\" Performs grid search over the 'max_depth' parameter for a \n",
    "        decision tree regressor trained on the input data [X, y]. \"\"\"\n",
    "    start = time()\n",
    "    \n",
    "    # Create cross-validation sets from the training data\n",
    "    cv_sets = ShuffleSplit(X.shape[0], n_iter = 10, test_size = 0.20, random_state = 0)\n",
    "\n",
    "    regressor = DecisionTreeRegressor(random_state=0)\n",
    "\n",
    "    params = {'max_depth':range(1,11)}\n",
    "\n",
    "    scoring_fnc = make_scorer(performance_metric_r2)\n",
    "\n",
    "    grid = grid_search.GridSearchCV(regressor, params, cv=cv_sets, scoring=scoring_fnc)\n",
    "\n",
    "    # Fit the grid search object to the data to compute the optimal model\n",
    "    grid = grid.fit(X, y)\n",
    "    end=time()\n",
    "    \n",
    "    # Print the results\n",
    "    print \"Grid search took {:.4f} seconds\".format(end - start)\n",
    "\n",
    "    # Return the optimal model after fitting the data\n",
    "    return grid.best_estimator_\n",
    "\n",
    "def fit_SVM_model(X, y):\n",
    "    \"\"\" Performs grid search over the 'kernel' parameter for a \n",
    "        svm regressor trained on the input data [X, y]. \"\"\"\n",
    "    start=time()\n",
    "    \n",
    "    # Create cross-validation sets from the training data\n",
    "    cv_sets = ShuffleSplit(X.shape[0], n_iter = 10, test_size = 0.20, random_state = 0)\n",
    "\n",
    "    regressor = svm.SVR()\n",
    "\n",
    "    params = {'kernel':('linear','rbf')}\n",
    "\n",
    "    scoring_fnc = make_scorer(performance_metric_r2)\n",
    "\n",
    "    grid = grid_search.GridSearchCV(regressor, params, cv=cv_sets, scoring=scoring_fnc)\n",
    "\n",
    "    # Fit the grid search object to the data to compute the optimal model\n",
    "    grid = grid.fit(X, y)\n",
    "    end=time()\n",
    "    \n",
    "    # Print the results\n",
    "    print \"Grid search took {:.4f} seconds\".format(end - start)\n",
    "\n",
    "\n",
    "    # Return the optimal model after fitting the data\n",
    "    return grid.best_estimator_\n",
    "\n",
    "def fit_Boosting_model(X,y):\n",
    "    \"\"\" Performs grid search over the 'max_depth', 'loss', 'learning_rate' and 'n_estimators' parameter for a \n",
    "        decision tree regressor trained on the input data [X, y]. \"\"\"\n",
    "    start=time()\n",
    "    # Create cross-validation sets from the training data\n",
    "    cv_sets = ShuffleSplit(X.shape[0], n_iter = 10, test_size = 0.20, random_state = 0)\n",
    "\n",
    "    regressor = GradientBoostingRegressor(random_state=0)\n",
    "\n",
    "    params = {'max_depth':range(1,6), 'loss':('ls','quantile'), 'learning_rate':(0.1,0.5), 'n_estimators':(100,500)}\n",
    "\n",
    "    scoring_fnc = make_scorer(performance_metric_r2)\n",
    "\n",
    "    grid = grid_search.GridSearchCV(regressor, params, cv=cv_sets, scoring=scoring_fnc)\n",
    "\n",
    "    # Fit the grid search object to the data to compute the optimal model\n",
    "    grid = grid.fit(X, y)\n",
    "    end=time()\n",
    "    \n",
    "    # Print the results\n",
    "    print \"Grid search took {:.4f} seconds\".format(end - start)\n",
    "\n",
    "    # Return the optimal model after fitting the data\n",
    "    return grid.best_estimator_"
   ]
  },
  {
   "cell_type": "code",
   "execution_count": 31,
   "metadata": {
    "collapsed": false
   },
   "outputs": [
    {
     "name": "stdout",
     "output_type": "stream",
     "text": [
      "Grid search took 26.9566 seconds\n",
      "Grid search took 14014.3949 seconds\n",
      "Grid search took 5343.1935 seconds\n",
      "Parameter 'max_depth' is 5 for the optimal model.\n",
      "Parameter 'kernel' is linear for the optimal model.\n",
      "Parameter 'max_depth' is 3 for the optimal model.\n"
     ]
    }
   ],
   "source": [
    "reg = fit_Tree_model(X_train, y_train)\n",
    "reg1 = fit_SVM_model(X_train, y_train)\n",
    "reg2 = fit_Boosting_model(X_train, y_train)\n",
    "\n",
    "# Produce the values for optimal parameters\n",
    "print \"Parameter 'max_depth' is {} for the optimal model.\".format(reg.get_params()['max_depth'])\n",
    "print \"Parameter 'kernel' is {} for the optimal model.\".format(reg1.get_params()['kernel'])\n",
    "print \"Parameter 'max_depth' is {} for the optimal model.\".format(reg2.get_params()['max_depth'])"
   ]
  },
  {
   "cell_type": "code",
   "execution_count": 32,
   "metadata": {
    "collapsed": false
   },
   "outputs": [
    {
     "name": "stdout",
     "output_type": "stream",
     "text": [
      "Grid search took 13.0325 seconds\n",
      "Grid search took 3101.7991 seconds\n",
      "Grid search took 2417.4681 seconds\n",
      "Parameter 'max_depth' is 4 for the optimal model.\n",
      "Parameter 'kernel' is linear for the optimal model.\n",
      "Parameter 'max_depth' is 2 for the optimal model.\n"
     ]
    }
   ],
   "source": [
    "reg_avg = fit_Tree_model(X_train1, y_train1)\n",
    "reg1_avg = fit_SVM_model(X_train1, y_train1)\n",
    "reg2_avg = fit_Boosting_model(X_train1, y_train1)\n",
    "\n",
    "# Produce the values for optimal parameters\n",
    "print \"Parameter 'max_depth' is {} for the optimal model.\".format(reg_avg.get_params()['max_depth'])\n",
    "print \"Parameter 'kernel' is {} for the optimal model.\".format(reg1_avg.get_params()['kernel'])\n",
    "print \"Parameter 'max_depth' is {} for the optimal model.\".format(reg2_avg.get_params()['max_depth'])"
   ]
  },
  {
   "cell_type": "code",
   "execution_count": 33,
   "metadata": {
    "collapsed": false
   },
   "outputs": [
    {
     "name": "stdout",
     "output_type": "stream",
     "text": [
      "Grid search took 5.3211 seconds\n",
      "Grid search took 522.5635 seconds\n",
      "Grid search took 923.8573 seconds\n",
      "Parameter 'max_depth' is 3 for the optimal model.\n",
      "Parameter 'kernel' is linear for the optimal model.\n",
      "Parameter 'max_depth' is 1 for the optimal model.\n"
     ]
    }
   ],
   "source": [
    "reg_onesd = fit_Tree_model(X_train2, y_train2)\n",
    "reg1_onesd = fit_SVM_model(X_train2, y_train2)\n",
    "reg2_onesd = fit_Boosting_model(X_train2, y_train2)\n",
    "\n",
    "# Produce the values for optimal parameters\n",
    "print \"Parameter 'max_depth' is {} for the optimal model.\".format(reg_onesd.get_params()['max_depth'])\n",
    "print \"Parameter 'kernel' is {} for the optimal model.\".format(reg1_onesd.get_params()['kernel'])\n",
    "print \"Parameter 'max_depth' is {} for the optimal model.\".format(reg2_onesd.get_params()['max_depth'])"
   ]
  },
  {
   "cell_type": "code",
   "execution_count": 34,
   "metadata": {
    "collapsed": true
   },
   "outputs": [],
   "source": [
    "def train_regressor(clf, X_train, y_train):\n",
    "    ''' Fits a regressor to the training data. '''\n",
    "    \n",
    "    # Start the clock, train the classifier, then stop the clock\n",
    "    start = time()\n",
    "    clf.fit(X_train, y_train)\n",
    "    end = time()\n",
    "    \n",
    "    # Print the results\n",
    "    print \"Trained model in {:.4f} seconds\".format(end - start)\n",
    "\n",
    "    \n",
    "def predict_labels(clf, features, target):\n",
    "    ''' Makes predictions using a fit regressor based on R2 score. '''\n",
    "    \n",
    "    # Start the clock, make predictions, then stop the clock\n",
    "    start = time()\n",
    "    y_pred = clf.predict(features)\n",
    "    end = time()\n",
    "    \n",
    "    # Print and return results\n",
    "    print \"Made predictions in {:.4f} seconds.\".format(end - start)\n",
    "    return r2_score(target.values, y_pred)\n",
    "\n",
    "\n",
    "def train_predict(clf, X_train, y_train, X_test, y_test):\n",
    "    ''' Train and predict using a regressor based on R2 score. '''\n",
    "    \n",
    "    # Indicate the regressor and the training set size\n",
    "    print \"Training a {} using a training set size of {}. . .\".format(clf.__class__.__name__, len(X_train))\n",
    "    \n",
    "    # Train the regressor\n",
    "    train_regressor(clf, X_train, y_train)\n",
    "    \n",
    "    # Print the results of prediction for both training and testing\n",
    "    print \"R2 score for training set: {:.4f}.\".format(predict_labels(clf, X_train, y_train))\n",
    "    print \"R2 score for test set: {:.4f}.\".format(predict_labels(clf, X_test, y_test))"
   ]
  },
  {
   "cell_type": "code",
   "execution_count": 35,
   "metadata": {
    "collapsed": false
   },
   "outputs": [
    {
     "name": "stdout",
     "output_type": "stream",
     "text": [
      "Training a SVR using a training set size of 44283. . .\n",
      "Trained model in 1479.9172 seconds\n",
      "Made predictions in 67.4424 seconds.\n",
      "R2 score for training set: 0.5044.\n",
      "Made predictions in 16.5666 seconds.\n",
      "R2 score for test set: 0.5122.\n",
      "Training a GradientBoostingRegressor using a training set size of 44283. . .\n",
      "Trained model in 6.0646 seconds\n",
      "Made predictions in 0.1323 seconds.\n",
      "R2 score for training set: 0.5222.\n",
      "Made predictions in 0.0346 seconds.\n",
      "R2 score for test set: 0.5173.\n",
      "Training a DecisionTreeRegressor using a training set size of 44283. . .\n",
      "Trained model in 0.2117 seconds\n",
      "Made predictions in 0.0095 seconds.\n",
      "R2 score for training set: 0.5066.\n",
      "Made predictions in 0.0027 seconds.\n",
      "R2 score for test set: 0.5067.\n"
     ]
    }
   ],
   "source": [
    "reg_A = svm.SVR(kernel=reg1.get_params()['kernel'])\n",
    "reg_B = GradientBoostingRegressor(random_state=0, max_depth=reg2.get_params()['max_depth'])\n",
    "reg_C = DecisionTreeRegressor(random_state=0, max_depth=reg.get_params()['max_depth'])\n",
    "\n",
    "for reg in [reg_A, reg_B, reg_C]:\n",
    "    train_predict(reg,X_train, y_train, X_test, y_test)"
   ]
  },
  {
   "cell_type": "code",
   "execution_count": 36,
   "metadata": {
    "collapsed": false
   },
   "outputs": [
    {
     "name": "stdout",
     "output_type": "stream",
     "text": [
      "Training a SVR using a training set size of 20277. . .\n",
      "Trained model in 383.9208 seconds\n",
      "Made predictions in 11.0532 seconds.\n",
      "R2 score for training set: 0.2898.\n",
      "Made predictions in 2.8799 seconds.\n",
      "R2 score for test set: 0.2732.\n",
      "Training a GradientBoostingRegressor using a training set size of 20277. . .\n",
      "Trained model in 1.5191 seconds\n",
      "Made predictions in 0.0444 seconds.\n",
      "R2 score for training set: 0.3313.\n",
      "Made predictions in 0.0108 seconds.\n",
      "R2 score for test set: 0.3064.\n",
      "Training a DecisionTreeRegressor using a training set size of 20277. . .\n",
      "Trained model in 0.0789 seconds\n",
      "Made predictions in 0.0043 seconds.\n",
      "R2 score for training set: 0.3165.\n",
      "Made predictions in 0.0010 seconds.\n",
      "R2 score for test set: 0.2974.\n"
     ]
    }
   ],
   "source": [
    "reg_A_1 = svm.SVR(kernel=reg1_avg.get_params()['kernel'])\n",
    "reg_B_1 = GradientBoostingRegressor(random_state=0, max_depth=reg2_avg.get_params()['max_depth'])\n",
    "reg_C_1 = DecisionTreeRegressor(random_state=0, max_depth=reg_avg.get_params()['max_depth'])\n",
    "\n",
    "\n",
    "for reg in [reg_A_1, reg_B_1, reg_C_1]:\n",
    "    train_predict(reg,X_train1, y_train1, X_test1, y_test1)"
   ]
  },
  {
   "cell_type": "code",
   "execution_count": 37,
   "metadata": {
    "collapsed": false
   },
   "outputs": [
    {
     "name": "stdout",
     "output_type": "stream",
     "text": [
      "Training a SVR using a training set size of 7267. . .\n",
      "Trained model in 60.7601 seconds\n",
      "Made predictions in 1.4081 seconds.\n",
      "R2 score for training set: 0.1262.\n",
      "Made predictions in 0.3470 seconds.\n",
      "R2 score for test set: 0.1230.\n",
      "Training a GradientBoostingRegressor using a training set size of 7267. . .\n",
      "Trained model in 0.3050 seconds\n",
      "Made predictions in 0.0100 seconds.\n",
      "R2 score for training set: 0.1928.\n",
      "Made predictions in 0.0026 seconds.\n",
      "R2 score for test set: 0.1873.\n",
      "Training a DecisionTreeRegressor using a training set size of 7267. . .\n",
      "Trained model in 0.0237 seconds\n",
      "Made predictions in 0.0015 seconds.\n",
      "R2 score for training set: 0.1859.\n",
      "Made predictions in 0.0005 seconds.\n",
      "R2 score for test set: 0.1804.\n"
     ]
    }
   ],
   "source": [
    "reg_A_2 = svm.SVR(kernel=reg1_onesd.get_params()['kernel'])\n",
    "reg_B_2 = GradientBoostingRegressor(random_state=0, max_depth=reg2_onesd.get_params()['max_depth'])\n",
    "reg_C_2 = DecisionTreeRegressor(random_state=0, max_depth=reg_onesd.get_params()['max_depth'])\n",
    "\n",
    "\n",
    "for reg in [reg_A_2, reg_B_2, reg_C_2]:\n",
    "    train_predict(reg,X_train2, y_train2, X_test2, y_test2)"
   ]
  },
  {
   "cell_type": "markdown",
   "metadata": {},
   "source": [
    "## Using our models, predict values in 2017\n",
    "\n",
    "Now that we have three models, one trained on all players, one trained on players that scored fantasy points above the mean and one trained on players that scored one standard deviation above the mean. Therefore, we can test these models out of sample and see how they fare in predicting fantasy scores from 2017."
   ]
  },
  {
   "cell_type": "code",
   "execution_count": 38,
   "metadata": {
    "collapsed": false
   },
   "outputs": [
    {
     "name": "stderr",
     "output_type": "stream",
     "text": [
      "/anaconda/lib/python2.7/site-packages/ipykernel/__main__.py:2: SettingWithCopyWarning: \n",
      "A value is trying to be set on a copy of a slice from a DataFrame.\n",
      "Try using .loc[row_indexer,col_indexer] = value instead\n",
      "\n",
      "See the caveats in the documentation: http://pandas.pydata.org/pandas-docs/stable/indexing.html#indexing-view-versus-copy\n",
      "  from ipykernel import kernelapp as app\n",
      "/anaconda/lib/python2.7/site-packages/ipykernel/__main__.py:22: SettingWithCopyWarning: \n",
      "A value is trying to be set on a copy of a slice from a DataFrame.\n",
      "Try using .loc[row_indexer,col_indexer] = value instead\n",
      "\n",
      "See the caveats in the documentation: http://pandas.pydata.org/pandas-docs/stable/indexing.html#indexing-view-versus-copy\n",
      "/anaconda/lib/python2.7/site-packages/ipykernel/__main__.py:23: SettingWithCopyWarning: \n",
      "A value is trying to be set on a copy of a slice from a DataFrame.\n",
      "Try using .loc[row_indexer,col_indexer] = value instead\n",
      "\n",
      "See the caveats in the documentation: http://pandas.pydata.org/pandas-docs/stable/indexing.html#indexing-view-versus-copy\n"
     ]
    }
   ],
   "source": [
    "new_test_df=pd.DataFrame()\n",
    "for i in range(0,len(unique_players)):\n",
    "    player_df=sort_test[sort_test['player']==unique_players[i]]\n",
    "    add_avg(player_df,\"pts\",10)\n",
    "    add_avg(player_df, \"fantasy\",10)\n",
    "    add_avg(player_df, \"plus_minus\",10)\n",
    "    #add_avg(player_df, \"ast\",10)\n",
    "    #add_avg(player_df, \"trb\",10)\n",
    "    #add_avg(player_df, \"stl\",10)\n",
    "    #add_avg(player_df, \"blk\",10)\n",
    "    add_avg(player_df, \"fgp\",10)\n",
    "    add_avg(player_df, \"p3p\",10)\n",
    "    add_avg(player_df,\"pts\",3)\n",
    "    add_avg(player_df, \"fantasy\",3)\n",
    "    add_avg(player_df, \"plus_minus\",3)\n",
    "    #add_avg(player_df, \"ast\",3)\n",
    "    #add_avg(player_df, \"trb\",3)\n",
    "    #add_avg(player_df, \"stl\",3)\n",
    "    #add_avg(player_df, \"blk\",3)\n",
    "    add_avg(player_df, \"fgp\",3)\n",
    "    add_avg(player_df, \"p3p\",3)\n",
    "    player_df['rest_days']=pd.to_datetime(player_df['game_date'],format=date_format).values-pd.to_datetime(player_df['game_date'],format=date_format).shift(1).values\n",
    "    player_df['rest']=(player_df['rest_days'].dt.total_seconds() / (24 * 60 * 60)).values\n",
    "    new_test_df=new_test_df.append(player_df)"
   ]
  },
  {
   "cell_type": "code",
   "execution_count": 39,
   "metadata": {
    "collapsed": false
   },
   "outputs": [
    {
     "name": "stderr",
     "output_type": "stream",
     "text": [
      "/anaconda/lib/python2.7/site-packages/ipykernel/__main__.py:2: SettingWithCopyWarning: \n",
      "A value is trying to be set on a copy of a slice from a DataFrame.\n",
      "Try using .loc[row_indexer,col_indexer] = value instead\n",
      "\n",
      "See the caveats in the documentation: http://pandas.pydata.org/pandas-docs/stable/indexing.html#indexing-view-versus-copy\n",
      "  from ipykernel import kernelapp as app\n"
     ]
    }
   ],
   "source": [
    "opp_test_data=pd.DataFrame({'opp_sum_fantasy':sort_test.groupby(['opp_team','game_date'])['fantasy'].sum()}).reset_index()\n",
    "teams_test_df=pd.DataFrame()\n",
    "for i in range(0,len(unique_teams)):\n",
    "    team_df=opp_test_data[opp_test_data['opp_team']==unique_teams[i]]\n",
    "    add_opp(team_df,'opp_sum_fantasy',10)\n",
    "    teams_test_df=teams_test_df.append(team_df)"
   ]
  },
  {
   "cell_type": "code",
   "execution_count": 40,
   "metadata": {
    "collapsed": true
   },
   "outputs": [],
   "source": [
    "final_test_data=pd.merge(new_test_df, teams_test_df, on=['opp_team','game_date'], how='left')"
   ]
  },
  {
   "cell_type": "code",
   "execution_count": 41,
   "metadata": {
    "collapsed": true
   },
   "outputs": [],
   "source": [
    "test_features = final_test_data.drop(['player','game_date','age','player_team','opp_team','result',\n",
    "                            'gs','mp','fg','fga','fgp','ft','fta','ftp','ast','orb','drb','trb',\n",
    "                            'stl','blk','p3','p3a','p3p','pts','plus_minus',\n",
    "                            'game_score','year_end','tov','pf', 'opp_sum_fantasy', 'rest_days'], axis=1)\n",
    "test_features=test_features.dropna()"
   ]
  },
  {
   "cell_type": "code",
   "execution_count": 42,
   "metadata": {
    "collapsed": false
   },
   "outputs": [],
   "source": [
    "test_fantasy = test_features['fantasy']\n",
    "test_features = test_features.drop('fantasy',axis=1)"
   ]
  },
  {
   "cell_type": "code",
   "execution_count": 43,
   "metadata": {
    "collapsed": false
   },
   "outputs": [],
   "source": [
    "test_features.replace(['H','A'],[1,0], inplace=True)"
   ]
  },
  {
   "cell_type": "markdown",
   "metadata": {},
   "source": [
    "## The model that did best is the Boosting regression so let's review the models trained on all data and then the Boosting regression for each set of training data"
   ]
  },
  {
   "cell_type": "code",
   "execution_count": 44,
   "metadata": {
    "collapsed": true
   },
   "outputs": [],
   "source": [
    "preds1=reg.predict(test_features)\n",
    "preds2=reg1.predict(test_features)\n",
    "preds3=reg2.predict(test_features)\n",
    "preds4=reg2_avg.predict(test_features)\n",
    "preds5=reg2_onesd.predict(test_features)"
   ]
  },
  {
   "cell_type": "code",
   "execution_count": 45,
   "metadata": {
    "collapsed": false
   },
   "outputs": [
    {
     "name": "stdout",
     "output_type": "stream",
     "text": [
      "The R2 for the first regression: -2.06763017498\n",
      "The R2 for the second regression: 0.579969684985\n",
      "The R2 for the third regression: 0.574823936141\n",
      "The R2 for the fourth regression: -0.153631155731\n",
      "The R2 for the fifth regression: -2.057051024\n"
     ]
    }
   ],
   "source": [
    "print(\"The R2 for the first regression: \" + str(reg.score(test_features, test_fantasy)))\n",
    "print(\"The R2 for the second regression: \" + str(reg1.score(test_features, test_fantasy)))\n",
    "print(\"The R2 for the third regression: \" + str(reg2.score(test_features, test_fantasy)))\n",
    "print(\"The R2 for the fourth regression: \" + str(reg2_avg.score(test_features, test_fantasy)))\n",
    "print(\"The R2 for the fifth regression: \" + str(reg2_onesd.score(test_features, test_fantasy)))"
   ]
  },
  {
   "cell_type": "code",
   "execution_count": 46,
   "metadata": {
    "collapsed": false
   },
   "outputs": [
    {
     "name": "stdout",
     "output_type": "stream",
     "text": [
      "The MSE for the first regression: 614.035378199\n",
      "The MSE for the second regression: 84.0758039997\n",
      "The MSE for the third regression: 85.1058081583\n",
      "The MSE for the fourth regression: 230.917777765\n",
      "The MSE for the fifth regression: 611.917791462\n"
     ]
    }
   ],
   "source": [
    "from sklearn.metrics import mean_squared_error\n",
    "\n",
    "print(\"The MSE for the first regression: \" + str(mean_squared_error(preds1, test_fantasy)))\n",
    "print(\"The MSE for the second regression: \" + str(mean_squared_error(preds2, test_fantasy)))\n",
    "print(\"The MSE for the third regression: \" + str(mean_squared_error(preds3, test_fantasy)))\n",
    "print(\"The MSE for the fourth regression: \" + str(mean_squared_error(preds4, test_fantasy)))\n",
    "print(\"The MSE for the fifth regression: \" + str(mean_squared_error(preds5, test_fantasy)))"
   ]
  },
  {
   "cell_type": "markdown",
   "metadata": {},
   "source": [
    "## To see if the regressions are useful, let's compare to a naive prediction of the 10 and 3 game average fantasy scores"
   ]
  },
  {
   "cell_type": "code",
   "execution_count": 47,
   "metadata": {
    "collapsed": false
   },
   "outputs": [
    {
     "name": "stdout",
     "output_type": "stream",
     "text": [
      "The MSE for the first regression: 614.035378199\n",
      "The MSE for all players, using past 10 game fantasy average: 85.6348922538\n",
      "The MSE for all players, using the past 3 game fantasy average: 100.002532058\n",
      "\n",
      "\n",
      "The MSE for the second regression: 84.0758039997\n",
      "The MSE for one sd players, using past 10 game fantasy average: 85.6348922538\n",
      "The MSE for one sd players, using the past 3 game fantasy average: 100.002532058\n",
      "\n",
      "\n",
      "The MSE for the third regression: 85.1058081583\n",
      "The MSE for two sd players, using past 10 game fantasy average: 85.6348922538\n",
      "The MSE for two sd players, using the past 3 game fantasy average: 100.002532058\n",
      "\n",
      "\n",
      "The MSE for the fourth regression: 230.917777765\n",
      "The MSE for two sd players, using past 10 game fantasy average: 85.6348922538\n",
      "The MSE for two sd players, using the past 3 game fantasy average: 100.002532058\n",
      "\n",
      "\n",
      "The MSE for the fifth regression: 611.917791462\n",
      "The MSE for two sd players, using past 10 game fantasy average: 85.6348922538\n",
      "The MSE for two sd players, using the past 3 game fantasy average: 100.002532058\n"
     ]
    }
   ],
   "source": [
    "print(\"The MSE for the first regression: \" + str(mean_squared_error(preds1, test_fantasy)))\n",
    "print(\"The MSE for all players, using past 10 game fantasy average: \" + str(mean_squared_error(test_features['avg10fantasy'], test_fantasy)))\n",
    "print(\"The MSE for all players, using the past 3 game fantasy average: \" + str(mean_squared_error(test_features['avg3fantasy'], test_fantasy)))\n",
    "\n",
    "print(\"\\n\")\n",
    "\n",
    "print(\"The MSE for the second regression: \" + str(mean_squared_error(preds2, test_fantasy)))\n",
    "print(\"The MSE for one sd players, using past 10 game fantasy average: \" + str(mean_squared_error(test_features['avg10fantasy'], test_fantasy)))\n",
    "print(\"The MSE for one sd players, using the past 3 game fantasy average: \" + str(mean_squared_error(test_features['avg3fantasy'], test_fantasy)))\n",
    "\n",
    "print(\"\\n\")\n",
    "\n",
    "print(\"The MSE for the third regression: \" + str(mean_squared_error(preds3, test_fantasy)))\n",
    "print(\"The MSE for two sd players, using past 10 game fantasy average: \" + str(mean_squared_error(test_features['avg10fantasy'], test_fantasy)))\n",
    "print(\"The MSE for two sd players, using the past 3 game fantasy average: \" + str(mean_squared_error(test_features['avg3fantasy'], test_fantasy)))\n",
    "\n",
    "print(\"\\n\")\n",
    "\n",
    "print(\"The MSE for the fourth regression: \" + str(mean_squared_error(preds4, test_fantasy)))\n",
    "print(\"The MSE for two sd players, using past 10 game fantasy average: \" + str(mean_squared_error(test_features['avg10fantasy'], test_fantasy)))\n",
    "print(\"The MSE for two sd players, using the past 3 game fantasy average: \" + str(mean_squared_error(test_features['avg3fantasy'], test_fantasy)))\n",
    "\n",
    "print(\"\\n\")\n",
    "\n",
    "print(\"The MSE for the fifth regression: \" + str(mean_squared_error(preds5, test_fantasy)))\n",
    "print(\"The MSE for two sd players, using past 10 game fantasy average: \" + str(mean_squared_error(test_features['avg10fantasy'], test_fantasy)))\n",
    "print(\"The MSE for two sd players, using the past 3 game fantasy average: \" + str(mean_squared_error(test_features['avg3fantasy'], test_fantasy)))\n"
   ]
  },
  {
   "cell_type": "code",
   "execution_count": 48,
   "metadata": {
    "collapsed": false
   },
   "outputs": [
    {
     "name": "stdout",
     "output_type": "stream",
     "text": [
      "[[ 0.57722254  0.07907048  0.74297441 -0.01462792 -5.85330663 -2.47539999\n",
      "   0.03375591  0.18738441 -0.03056555  1.20163206 -0.37770525 -0.01362714\n",
      "   0.01935567]]\n",
      "[[  4.96651747e-01   5.42821878e-02   4.46808607e-01   2.90375110e-02\n",
      "   -7.29662449e+00  -3.37788328e+00   1.89088465e-02   6.29479278e-02\n",
      "   -9.24927017e-03  -4.89902807e-01  -1.00416590e+00  -4.01979149e-03\n",
      "    1.92978095e-02]]\n",
      "[[  5.36248139e-02   5.67899967e-02   2.49825738e-01   3.02942786e-02\n",
      "   -4.16239804e+00  -1.64536294e+00  -1.23777009e-03   1.73369646e-02\n",
      "   -1.85088531e-02  -1.87632497e-01   1.49378519e-01  -2.01852180e-03\n",
      "    7.08370952e-03]]\n",
      "\n",
      "\n",
      "[ 0.02100478  0.06910873  0.24741373  0.06316417  0.08322556  0.04904447\n",
      "  0.06333891  0.15726699  0.05203521  0.04003238  0.0220663   0.05678112\n",
      "  0.07551765]\n",
      "[ 0.02681009  0.05161994  0.32379358  0.06000719  0.04852771  0.07714145\n",
      "  0.02960567  0.13058756  0.04837245  0.07249107  0.02894692  0.03390971\n",
      "  0.06818667]\n",
      "[ 0.    0.04  0.46  0.05  0.01  0.08  0.08  0.12  0.01  0.07  0.    0.03\n",
      "  0.05]\n"
     ]
    }
   ],
   "source": [
    "print(reg1.coef_)\n",
    "print(reg1_avg.coef_)\n",
    "print(reg1_onesd.coef_)\n",
    "\n",
    "print(\"\\n\")\n",
    "\n",
    "print(reg2.feature_importances_)\n",
    "print(reg2_avg.feature_importances_)\n",
    "print(reg2_onesd.feature_importances_)"
   ]
  },
  {
   "cell_type": "code",
   "execution_count": 49,
   "metadata": {
    "collapsed": false
   },
   "outputs": [],
   "source": [
    "def player_reg(player_name, train_data, test_data):\n",
    "    player_data=train_data[train_data['player']==player_name]\n",
    "    player_features=player_data.drop(['player','game_date','age','player_team','opp_team','result',\n",
    "                            'gs','mp','fg','fga','fgp','ft','fta','ftp','ast','orb','drb','trb',\n",
    "                            'stl','blk','p3','p3a','p3p','pts','plus_minus',\n",
    "                            'game_score','year_end','tov','pf', 'opp_sum_fantasy', 'rest_days'], axis=1)\n",
    "    player_features.dropna(inplace=True)\n",
    "    player_fantasy=player_features['fantasy']\n",
    "    player_features.drop('fantasy',axis=1,inplace=True)\n",
    "    player_features.replace(['H','A'],[1,0], inplace=True)\n",
    "    X_train, X_test, y_train, y_test = cross_validation.train_test_split(\n",
    "    player_features, player_fantasy, test_size=0.2, random_state=0)\n",
    "    \n",
    "    player1=fit_Tree_model(X_train, y_train)\n",
    "    player2=fit_SVM_model(X_train, y_train)\n",
    "    player3=fit_Boosting_model(X_train, y_train)\n",
    "\n",
    "    reg_A = DecisionTreeRegressor(random_state=0, max_depth=player1.get_params()['max_depth'])\n",
    "    reg_B = svm.SVR(kernel=player2.get_params()['kernel'])\n",
    "    reg_C = GradientBoostingRegressor(random_state=0,max_depth=player3.get_params()['max_depth'], loss=player3.get_params()['loss'], learning_rate=player3.get_params()['learning_rate'], n_estimators=player3.get_params()['n_estimators'])\n",
    "    for reg in [reg_A, reg_B, reg_C]:\n",
    "        train_predict(reg,X_train, y_train, X_test, y_test)\n",
    "    \n",
    "    player_data_test=test_data[test_data['player']==player_name]\n",
    "    player_features_test=player_data_test.drop(['player','game_date','age','player_team','opp_team','result',\n",
    "                            'gs','mp','fg','fga','fgp','ft','fta','ftp','ast','orb','drb','trb',\n",
    "                            'stl','blk','p3','p3a','p3p','pts','plus_minus',\n",
    "                            'game_score','year_end','tov','pf', 'opp_sum_fantasy', 'rest_days'], axis=1)\n",
    "    player_features_test.dropna(inplace=True)\n",
    "    player_fantasy_test=player_features_test['fantasy']\n",
    "    player_features_test.drop('fantasy',axis=1, inplace=True)\n",
    "    player_features_test.replace(['H','A'],[1,0], inplace=True)\n",
    "    preds1=player1.predict(player_features_test)\n",
    "    preds2=player2.predict(player_features_test)\n",
    "    preds3=player3.predict(player_features_test)\n",
    "    \n",
    "    print(\"The MSE for the first regression: \" + str(mean_squared_error(preds1, player_fantasy_test)))\n",
    "    print(\"The MSE for the second regression: \" + str(mean_squared_error(preds2, player_fantasy_test)))\n",
    "    print(\"The MSE for the third regression: \" + str(mean_squared_error(preds3, player_fantasy_test)))\n",
    "    print(\"The MSE for all players, using past 10 game fantasy average: \" + str(mean_squared_error(player_features_test['avg10fantasy'], player_fantasy_test)))\n",
    "    print(\"The MSE for all players, using the past 3 game fantasy average: \" + str(mean_squared_error(player_features_test['avg3fantasy'], player_fantasy_test)))\n",
    "    ten_game_mse=mean_squared_error(player_features_test['avg10fantasy'], player_fantasy_test)\n",
    "    three_game_mse=mean_squared_error(player_features_test['avg3fantasy'], player_fantasy_test)\n",
    "    \n",
    "    best_mse=0\n",
    "    for player in [player1, player2, player3]:\n",
    "        mse = mean_squared_error(player.predict(player_features_test), player_fantasy_test)\n",
    "        if best_mse==0:\n",
    "            best_mse=mse\n",
    "            model=player\n",
    "        else:\n",
    "            if mse < best_mse:\n",
    "                best_mse=mse\n",
    "                model=player\n",
    "    return_dict={player_name:{'best regression':model, 'best mse':best_mse, 'avg 10 mse':ten_game_mse, 'avg 3 mse':three_game_mse}}\n",
    "    return return_dict"
   ]
  },
  {
   "cell_type": "code",
   "execution_count": 50,
   "metadata": {
    "collapsed": false
   },
   "outputs": [],
   "source": [
    "top_200=[]\n",
    "for i in sort_train.player.unique():\n",
    "    top_200.append([str(i), np.mean(sort_train[sort_train['player']==i]['fantasy'])])\n",
    "\n",
    "top_200_fantasy=sorted(top_200, key=lambda x: (x[1]), reverse=True)\n",
    "\n",
    "cnt=1\n",
    "top_20_final=[]\n",
    "for i in top_200_fantasy:\n",
    "    if cnt < 21:\n",
    "        top_20_final.append(i)\n",
    "    cnt += 1"
   ]
  },
  {
   "cell_type": "code",
   "execution_count": 51,
   "metadata": {
    "collapsed": false
   },
   "outputs": [
    {
     "name": "stdout",
     "output_type": "stream",
     "text": [
      "Grid search took 1.4946 seconds\n",
      "Grid search took 0.8223 seconds\n",
      "Grid search took 79.9990 seconds\n",
      "Training a DecisionTreeRegressor using a training set size of 144. . .\n",
      "Trained model in 0.0011 seconds\n",
      "Made predictions in 0.0003 seconds.\n",
      "R2 score for training set: 0.3007.\n",
      "Made predictions in 0.0003 seconds.\n",
      "R2 score for test set: -0.2566.\n",
      "Training a SVR using a training set size of 144. . .\n",
      "Trained model in 0.0045 seconds\n",
      "Made predictions in 0.0018 seconds.\n",
      "R2 score for training set: 0.1073.\n",
      "Made predictions in 0.0006 seconds.\n",
      "R2 score for test set: -0.0623.\n",
      "Training a GradientBoostingRegressor using a training set size of 144. . .\n",
      "Trained model in 0.0370 seconds\n",
      "Made predictions in 0.0006 seconds.\n",
      "R2 score for training set: 0.4175.\n",
      "Made predictions in 0.0004 seconds.\n",
      "R2 score for test set: -0.2057.\n",
      "The MSE for the first regression: 186.504627676\n",
      "The MSE for the second regression: 277.13554711\n",
      "The MSE for the third regression: 169.380621737\n",
      "The MSE for all players, using past 10 game fantasy average: 163.097152778\n",
      "The MSE for all players, using the past 3 game fantasy average: 222.124614198\n",
      "Grid search took 0.9186 seconds\n",
      "Grid search took 0.4455 seconds\n",
      "Grid search took 77.6380 seconds\n",
      "Training a DecisionTreeRegressor using a training set size of 135. . .\n",
      "Trained model in 0.0010 seconds\n",
      "Made predictions in 0.0003 seconds.\n",
      "R2 score for training set: 0.0790.\n",
      "Made predictions in 0.0002 seconds.\n",
      "R2 score for test set: 0.1202.\n",
      "Training a SVR using a training set size of 135. . .\n",
      "Trained model in 0.0039 seconds\n",
      "Made predictions in 0.0015 seconds.\n",
      "R2 score for training set: 0.1266.\n",
      "Made predictions in 0.0006 seconds.\n",
      "R2 score for test set: -0.0055.\n",
      "Training a GradientBoostingRegressor using a training set size of 135. . .\n",
      "Trained model in 0.0373 seconds\n",
      "Made predictions in 0.0007 seconds.\n",
      "R2 score for training set: 0.3343.\n",
      "Made predictions in 0.0004 seconds.\n",
      "R2 score for test set: -0.0798.\n",
      "The MSE for the first regression: 117.412526716\n",
      "The MSE for the second regression: 99.7656813704\n",
      "The MSE for the third regression: 105.051472459\n",
      "The MSE for all players, using past 10 game fantasy average: 118.273854167\n",
      "The MSE for all players, using the past 3 game fantasy average: 145.153549383\n",
      "Grid search took 0.8888 seconds\n",
      "Grid search took 0.4175 seconds\n",
      "Grid search took 78.3477 seconds\n",
      "Training a DecisionTreeRegressor using a training set size of 148. . .\n",
      "Trained model in 0.0009 seconds\n",
      "Made predictions in 0.0003 seconds.\n",
      "R2 score for training set: 0.0669.\n",
      "Made predictions in 0.0003 seconds.\n",
      "R2 score for test set: -0.0185.\n",
      "Training a SVR using a training set size of 148. . .\n",
      "Trained model in 0.0044 seconds\n",
      "Made predictions in 0.0018 seconds.\n",
      "R2 score for training set: 0.1172.\n",
      "Made predictions in 0.0007 seconds.\n",
      "R2 score for test set: -0.0237.\n",
      "Training a GradientBoostingRegressor using a training set size of 148. . .\n",
      "Trained model in 0.0361 seconds\n",
      "Made predictions in 0.0006 seconds.\n",
      "R2 score for training set: 0.3564.\n",
      "Made predictions in 0.0004 seconds.\n",
      "R2 score for test set: -0.1190.\n",
      "The MSE for the first regression: 171.107943509\n",
      "The MSE for the second regression: 174.690790052\n",
      "The MSE for the third regression: 146.757710609\n",
      "The MSE for all players, using past 10 game fantasy average: 181.225753676\n",
      "The MSE for all players, using the past 3 game fantasy average: 188.118872549\n",
      "Grid search took 0.9428 seconds\n",
      "Grid search took 0.4920 seconds\n",
      "Grid search took 87.3622 seconds\n",
      "Training a DecisionTreeRegressor using a training set size of 179. . .\n",
      "Trained model in 0.0008 seconds\n",
      "Made predictions in 0.0003 seconds.\n",
      "R2 score for training set: 0.0869.\n",
      "Made predictions in 0.0002 seconds.\n",
      "R2 score for test set: 0.0647.\n",
      "Training a SVR using a training set size of 179. . .\n",
      "Trained model in 0.0062 seconds\n",
      "Made predictions in 0.0025 seconds.\n",
      "R2 score for training set: 0.1133.\n",
      "Made predictions in 0.0009 seconds.\n",
      "R2 score for test set: -0.0001.\n",
      "Training a GradientBoostingRegressor using a training set size of 179. . .\n",
      "Trained model in 0.0411 seconds\n",
      "Made predictions in 0.0010 seconds.\n",
      "R2 score for training set: 0.3169.\n",
      "Made predictions in 0.0007 seconds.\n",
      "R2 score for test set: 0.0809.\n",
      "The MSE for the first regression: 189.671094702\n",
      "The MSE for the second regression: 265.571188488\n",
      "The MSE for the third regression: 311.08835307\n",
      "The MSE for all players, using past 10 game fantasy average: 153.171714744\n",
      "The MSE for all players, using the past 3 game fantasy average: 232.098468661\n",
      "Grid search took 0.9395 seconds\n",
      "Grid search took 0.6765 seconds\n",
      "Grid search took 85.9550 seconds\n",
      "Training a DecisionTreeRegressor using a training set size of 179. . .\n",
      "Trained model in 0.0010 seconds\n",
      "Made predictions in 0.0003 seconds.\n",
      "R2 score for training set: 0.0710.\n",
      "Made predictions in 0.0002 seconds.\n",
      "R2 score for test set: -0.1054.\n",
      "Training a SVR using a training set size of 179. . .\n",
      "Trained model in 0.0064 seconds\n",
      "Made predictions in 0.0025 seconds.\n",
      "R2 score for training set: 0.1268.\n",
      "Made predictions in 0.0008 seconds.\n",
      "R2 score for test set: -0.0466.\n",
      "Training a GradientBoostingRegressor using a training set size of 179. . .\n",
      "Trained model in 0.0381 seconds\n",
      "Made predictions in 0.0006 seconds.\n",
      "R2 score for training set: 0.3011.\n",
      "Made predictions in 0.0004 seconds.\n",
      "R2 score for test set: -0.0742.\n",
      "The MSE for the first regression: 82.2320673078\n",
      "The MSE for the second regression: 72.7934624398\n",
      "The MSE for the third regression: 194.07480204\n",
      "The MSE for all players, using past 10 game fantasy average: 59.8030729167\n",
      "The MSE for all players, using the past 3 game fantasy average: 72.8400848765\n",
      "Grid search took 0.9399 seconds\n",
      "Grid search took 0.5830 seconds\n",
      "Grid search took 84.6142 seconds\n",
      "Training a DecisionTreeRegressor using a training set size of 169. . .\n",
      "Trained model in 0.0008 seconds\n",
      "Made predictions in 0.0003 seconds.\n",
      "R2 score for training set: 0.0429.\n",
      "Made predictions in 0.0002 seconds.\n",
      "R2 score for test set: -0.0489.\n",
      "Training a SVR using a training set size of 169. . .\n",
      "Trained model in 0.0055 seconds\n",
      "Made predictions in 0.0023 seconds.\n",
      "R2 score for training set: 0.1454.\n",
      "Made predictions in 0.0008 seconds.\n",
      "R2 score for test set: -0.0164.\n",
      "Training a GradientBoostingRegressor using a training set size of 169. . .\n",
      "Trained model in 0.0466 seconds\n",
      "Made predictions in 0.0007 seconds.\n",
      "R2 score for training set: 0.7022.\n",
      "Made predictions in 0.0005 seconds.\n",
      "R2 score for test set: -0.2324.\n",
      "The MSE for the first regression: 141.455099435\n",
      "The MSE for the second regression: 146.623270968\n",
      "The MSE for the third regression: 169.516713904\n",
      "The MSE for all players, using past 10 game fantasy average: 158.623366935\n",
      "The MSE for all players, using the past 3 game fantasy average: 180.373207885\n",
      "Grid search took 0.8940 seconds\n",
      "Grid search took 0.6419 seconds\n",
      "Grid search took 78.7118 seconds\n",
      "Training a DecisionTreeRegressor using a training set size of 147. . .\n",
      "Trained model in 0.0009 seconds\n",
      "Made predictions in 0.0003 seconds.\n",
      "R2 score for training set: 0.1958.\n",
      "Made predictions in 0.0002 seconds.\n",
      "R2 score for test set: -0.0348.\n",
      "Training a SVR using a training set size of 147. . .\n",
      "Trained model in 0.0044 seconds\n",
      "Made predictions in 0.0024 seconds.\n",
      "R2 score for training set: 0.0869.\n",
      "Made predictions in 0.0007 seconds.\n",
      "R2 score for test set: -0.0740.\n",
      "Training a GradientBoostingRegressor using a training set size of 147. . .\n",
      "Trained model in 0.0435 seconds\n",
      "Made predictions in 0.0007 seconds.\n",
      "R2 score for training set: 0.7315.\n",
      "Made predictions in 0.0004 seconds.\n",
      "R2 score for test set: -0.1124.\n",
      "The MSE for the first regression: 1118.79724666\n",
      "The MSE for the second regression: 301.590796184\n",
      "The MSE for the third regression: 724.371500576\n",
      "The MSE for all players, using past 10 game fantasy average: 317.096370968\n",
      "The MSE for all players, using the past 3 game fantasy average: 361.265008961\n",
      "Grid search took 0.9252 seconds\n",
      "Grid search took 0.6891 seconds\n",
      "Grid search took 83.7749 seconds\n",
      "Training a DecisionTreeRegressor using a training set size of 165. . .\n",
      "Trained model in 0.0008 seconds\n",
      "Made predictions in 0.0003 seconds.\n",
      "R2 score for training set: 0.0435.\n",
      "Made predictions in 0.0002 seconds.\n",
      "R2 score for test set: -0.1292.\n",
      "Training a SVR using a training set size of 165. . .\n",
      "Trained model in 0.0055 seconds\n",
      "Made predictions in 0.0025 seconds.\n",
      "R2 score for training set: 0.1331.\n",
      "Made predictions in 0.0008 seconds.\n",
      "R2 score for test set: -0.0068.\n",
      "Training a GradientBoostingRegressor using a training set size of 165. . .\n",
      "Trained model in 0.0375 seconds\n",
      "Made predictions in 0.0006 seconds.\n",
      "R2 score for training set: 0.2347.\n",
      "Made predictions in 0.0004 seconds.\n",
      "R2 score for test set: -0.0672.\n",
      "The MSE for the first regression: 122.841909394\n",
      "The MSE for the second regression: 125.193855465\n",
      "The MSE for the third regression: 154.576656601\n",
      "The MSE for all players, using past 10 game fantasy average: 132.1198\n",
      "The MSE for all players, using the past 3 game fantasy average: 199.737777778\n",
      "Grid search took 0.9195 seconds\n",
      "Grid search took 0.7837 seconds\n",
      "Grid search took 85.4294 seconds\n",
      "Training a DecisionTreeRegressor using a training set size of 181. . .\n",
      "Trained model in 0.0008 seconds\n",
      "Made predictions in 0.0003 seconds.\n",
      "R2 score for training set: 0.0645.\n",
      "Made predictions in 0.0002 seconds.\n",
      "R2 score for test set: -0.0742.\n",
      "Training a SVR using a training set size of 181. . .\n",
      "Trained model in 0.1430 seconds\n",
      "Made predictions in 0.0015 seconds.\n",
      "R2 score for training set: 0.0805.\n",
      "Made predictions in 0.0006 seconds.\n",
      "R2 score for test set: -1.0628.\n",
      "Training a GradientBoostingRegressor using a training set size of 181. . .\n",
      "Trained model in 0.0382 seconds\n",
      "Made predictions in 0.0006 seconds.\n",
      "R2 score for training set: 0.3235.\n",
      "Made predictions in 0.0004 seconds.\n",
      "R2 score for test set: 0.0130.\n",
      "The MSE for the first regression: 145.745796054\n",
      "The MSE for the second regression: 97.6922221478\n",
      "The MSE for the third regression: 111.085589789\n",
      "The MSE for all players, using past 10 game fantasy average: 102.563712121\n",
      "The MSE for all players, using the past 3 game fantasy average: 128.634048822\n",
      "Grid search took 0.9042 seconds\n",
      "Grid search took 0.4896 seconds\n",
      "Grid search took 79.9969 seconds\n",
      "Training a DecisionTreeRegressor using a training set size of 136. . .\n",
      "Trained model in 0.0007 seconds\n",
      "Made predictions in 0.0003 seconds.\n",
      "R2 score for training set: 0.0657.\n",
      "Made predictions in 0.0002 seconds.\n",
      "R2 score for test set: -0.0009.\n",
      "Training a SVR using a training set size of 136. . .\n",
      "Trained model in 0.0040 seconds\n",
      "Made predictions in 0.0016 seconds.\n",
      "R2 score for training set: 0.1358.\n",
      "Made predictions in 0.0006 seconds.\n",
      "R2 score for test set: -0.0014.\n",
      "Training a GradientBoostingRegressor using a training set size of 136. . .\n",
      "Trained model in 0.0385 seconds\n",
      "Made predictions in 0.0006 seconds.\n",
      "R2 score for training set: 0.2765.\n",
      "Made predictions in 0.0004 seconds.\n",
      "R2 score for test set: 0.0049.\n",
      "The MSE for the first regression: 407.370819642\n",
      "The MSE for the second regression: 84.7501584011\n",
      "The MSE for the third regression: 272.105453323\n",
      "The MSE for all players, using past 10 game fantasy average: 95.8624609375\n",
      "The MSE for all players, using the past 3 game fantasy average: 113.290364583\n",
      "Grid search took 0.9062 seconds\n",
      "Grid search took 0.5879 seconds\n",
      "Grid search took 82.7409 seconds\n",
      "Training a DecisionTreeRegressor using a training set size of 142. . .\n",
      "Trained model in 0.0009 seconds\n",
      "Made predictions in 0.0003 seconds.\n",
      "R2 score for training set: 0.1139.\n",
      "Made predictions in 0.0003 seconds.\n",
      "R2 score for test set: -0.2334.\n",
      "Training a SVR using a training set size of 142. . .\n",
      "Trained model in 0.0052 seconds\n",
      "Made predictions in 0.0022 seconds.\n",
      "R2 score for training set: 0.1372.\n",
      "Made predictions in 0.0008 seconds.\n",
      "R2 score for test set: -0.0927.\n",
      "Training a GradientBoostingRegressor using a training set size of 142. . .\n",
      "Trained model in 0.0391 seconds\n",
      "Made predictions in 0.0006 seconds.\n",
      "R2 score for training set: 0.3735.\n",
      "Made predictions in 0.0004 seconds.\n",
      "R2 score for test set: -0.2095.\n",
      "The MSE for the first regression: 166.374184462\n",
      "The MSE for the second regression: 187.536297773\n",
      "The MSE for the third regression: 145.356559824\n",
      "The MSE for all players, using past 10 game fantasy average: 170.88359375\n",
      "The MSE for all players, using the past 3 game fantasy average: 255.409529321\n",
      "Grid search took 0.9225 seconds\n",
      "Grid search took 0.8003 seconds\n",
      "Grid search took 86.0097 seconds\n",
      "Training a DecisionTreeRegressor using a training set size of 172. . .\n",
      "Trained model in 0.0008 seconds\n",
      "Made predictions in 0.0003 seconds.\n",
      "R2 score for training set: 0.3111.\n",
      "Made predictions in 0.0002 seconds.\n",
      "R2 score for test set: 0.2570.\n",
      "Training a SVR using a training set size of 172. . .\n",
      "Trained model in 0.0537 seconds\n",
      "Made predictions in 0.0011 seconds.\n",
      "R2 score for training set: 0.2703.\n",
      "Made predictions in 0.0005 seconds.\n",
      "R2 score for test set: 0.2103.\n",
      "Training a GradientBoostingRegressor using a training set size of 172. . .\n",
      "Trained model in 0.0379 seconds\n",
      "Made predictions in 0.0006 seconds.\n",
      "R2 score for training set: 0.5027.\n",
      "Made predictions in 0.0004 seconds.\n",
      "R2 score for test set: 0.1685.\n",
      "The MSE for the first regression: 250.521394056\n",
      "The MSE for the second regression: 203.514454948\n",
      "The MSE for the third regression: 206.811369887\n",
      "The MSE for all players, using past 10 game fantasy average: 171.984956897\n",
      "The MSE for all players, using the past 3 game fantasy average: 200.981800766\n",
      "Grid search took 0.9430 seconds\n",
      "Grid search took 0.6740 seconds\n",
      "Grid search took 81.6113 seconds\n",
      "Training a DecisionTreeRegressor using a training set size of 157. . .\n",
      "Trained model in 0.0009 seconds\n",
      "Made predictions in 0.0003 seconds.\n",
      "R2 score for training set: 0.0433.\n",
      "Made predictions in 0.0003 seconds.\n",
      "R2 score for test set: -0.1185.\n",
      "Training a SVR using a training set size of 157. . .\n",
      "Trained model in 0.0053 seconds\n",
      "Made predictions in 0.0020 seconds.\n",
      "R2 score for training set: 0.1376.\n",
      "Made predictions in 0.0009 seconds.\n",
      "R2 score for test set: -0.0052.\n",
      "Training a GradientBoostingRegressor using a training set size of 157. . .\n",
      "Trained model in 0.0393 seconds\n",
      "Made predictions in 0.0006 seconds.\n",
      "R2 score for training set: 0.2917.\n",
      "Made predictions in 0.0004 seconds.\n",
      "R2 score for test set: -0.2173.\n",
      "The MSE for the first regression: 262.065367536\n",
      "The MSE for the second regression: 220.748830789\n",
      "The MSE for the third regression: 116.176258281\n",
      "The MSE for all players, using past 10 game fantasy average: 95.9270535714\n",
      "The MSE for all players, using the past 3 game fantasy average: 109.585565476\n",
      "Grid search took 0.8843 seconds\n",
      "Grid search took 0.5552 seconds\n",
      "Grid search took 77.8143 seconds\n",
      "Training a DecisionTreeRegressor using a training set size of 124. . .\n",
      "Trained model in 0.0009 seconds\n",
      "Made predictions in 0.0003 seconds.\n",
      "R2 score for training set: 0.0485.\n",
      "Made predictions in 0.0003 seconds.\n",
      "R2 score for test set: -0.1119.\n",
      "Training a SVR using a training set size of 124. . .\n",
      "Trained model in 0.0036 seconds\n",
      "Made predictions in 0.0014 seconds.\n",
      "R2 score for training set: 0.1212.\n",
      "Made predictions in 0.0005 seconds.\n",
      "R2 score for test set: -0.0993.\n",
      "Training a GradientBoostingRegressor using a training set size of 124. . .\n",
      "Trained model in 0.0349 seconds\n",
      "Made predictions in 0.0006 seconds.\n",
      "R2 score for training set: 0.3477.\n",
      "Made predictions in 0.0004 seconds.\n",
      "R2 score for test set: -0.1830.\n",
      "The MSE for the first regression: 66.7956499176\n",
      "The MSE for the second regression: 54.7836126738\n",
      "The MSE for the third regression: 52.4063908479\n",
      "The MSE for all players, using past 10 game fantasy average: 62.3449107143\n",
      "The MSE for all players, using the past 3 game fantasy average: 74.240327381\n",
      "Grid search took 0.9295 seconds\n",
      "Grid search took 0.5044 seconds\n",
      "Grid search took 80.9529 seconds\n",
      "Training a DecisionTreeRegressor using a training set size of 160. . .\n",
      "Trained model in 0.0008 seconds\n",
      "Made predictions in 0.0003 seconds.\n",
      "R2 score for training set: 0.1394.\n",
      "Made predictions in 0.0002 seconds.\n",
      "R2 score for test set: -0.1275.\n",
      "Training a SVR using a training set size of 160. . .\n",
      "Trained model in 0.0055 seconds\n",
      "Made predictions in 0.0021 seconds.\n",
      "R2 score for training set: 0.1185.\n",
      "Made predictions in 0.0007 seconds.\n",
      "R2 score for test set: -0.0011.\n",
      "Training a GradientBoostingRegressor using a training set size of 160. . .\n",
      "Trained model in 0.0369 seconds\n",
      "Made predictions in 0.0007 seconds.\n",
      "R2 score for training set: 0.4176.\n",
      "Made predictions in 0.0004 seconds.\n",
      "R2 score for test set: -0.1203.\n",
      "The MSE for the first regression: 113.043050108\n",
      "The MSE for the second regression: 152.027591597\n",
      "The MSE for the third regression: 117.359298486\n",
      "The MSE for all players, using past 10 game fantasy average: 131.582520161\n",
      "The MSE for all players, using the past 3 game fantasy average: 141.891129032\n",
      "Grid search took 0.9227 seconds\n",
      "Grid search took 0.5414 seconds\n",
      "Grid search took 85.3543 seconds\n",
      "Training a DecisionTreeRegressor using a training set size of 170. . .\n",
      "Trained model in 0.0010 seconds\n",
      "Made predictions in 0.0003 seconds.\n",
      "R2 score for training set: 0.0990.\n",
      "Made predictions in 0.0003 seconds.\n",
      "R2 score for test set: -0.1537.\n",
      "Training a SVR using a training set size of 170. . .\n",
      "Trained model in 0.0059 seconds\n",
      "Made predictions in 0.0024 seconds.\n",
      "R2 score for training set: 0.1367.\n",
      "Made predictions in 0.0008 seconds.\n",
      "R2 score for test set: -0.0825.\n",
      "Training a GradientBoostingRegressor using a training set size of 170. . .\n",
      "Trained model in 0.0386 seconds\n",
      "Made predictions in 0.0006 seconds.\n",
      "R2 score for training set: 0.3109.\n",
      "Made predictions in 0.0004 seconds.\n",
      "R2 score for test set: -0.1778.\n",
      "The MSE for the first regression: 101.135870536\n",
      "The MSE for the second regression: 109.695110833\n",
      "The MSE for the third regression: 195.976388986\n",
      "The MSE for all players, using past 10 game fantasy average: 99.2109642857\n",
      "The MSE for all players, using the past 3 game fantasy average: 123.264484127\n",
      "Grid search took 0.9242 seconds\n",
      "Grid search took 1.0002 seconds\n",
      "Grid search took 85.1737 seconds\n",
      "Training a DecisionTreeRegressor using a training set size of 178. . .\n",
      "Trained model in 0.0009 seconds\n",
      "Made predictions in 0.0003 seconds.\n",
      "R2 score for training set: 0.0627.\n",
      "Made predictions in 0.0002 seconds.\n",
      "R2 score for test set: -0.1918.\n",
      "Training a SVR using a training set size of 178. . .\n",
      "Trained model in 0.0062 seconds\n",
      "Made predictions in 0.0027 seconds.\n",
      "R2 score for training set: 0.1301.\n",
      "Made predictions in 0.0012 seconds.\n",
      "R2 score for test set: -0.0768.\n",
      "Training a GradientBoostingRegressor using a training set size of 178. . .\n",
      "Trained model in 0.0399 seconds\n",
      "Made predictions in 0.0006 seconds.\n",
      "R2 score for training set: 0.3179.\n",
      "Made predictions in 0.0004 seconds.\n",
      "R2 score for test set: -0.3419.\n",
      "The MSE for the first regression: 114.205280654\n",
      "The MSE for the second regression: 118.417208793\n",
      "The MSE for the third regression: 133.403033591\n",
      "The MSE for all players, using past 10 game fantasy average: 122.598467742\n",
      "The MSE for all players, using the past 3 game fantasy average: 130.116487455\n",
      "Grid search took 0.8547 seconds\n",
      "Grid search took 0.2553 seconds\n",
      "Grid search took 63.2785 seconds\n",
      "Training a DecisionTreeRegressor using a training set size of 56. . .\n",
      "Trained model in 0.0007 seconds\n",
      "Made predictions in 0.0003 seconds.\n",
      "R2 score for training set: 0.1838.\n",
      "Made predictions in 0.0002 seconds.\n",
      "R2 score for test set: -0.0198.\n",
      "Training a SVR using a training set size of 56. . .\n",
      "Trained model in 0.0011 seconds\n",
      "Made predictions in 0.0005 seconds.\n",
      "R2 score for training set: 0.1400.\n",
      "Made predictions in 0.0003 seconds.\n",
      "R2 score for test set: -0.1734.\n",
      "Training a GradientBoostingRegressor using a training set size of 56. . .\n",
      "Trained model in 0.0457 seconds\n",
      "Made predictions in 0.0007 seconds.\n",
      "R2 score for training set: 0.9999.\n",
      "Made predictions in 0.0004 seconds.\n",
      "R2 score for test set: -0.3824.\n",
      "The MSE for the first regression: 179.683157154\n",
      "The MSE for the second regression: 193.26950788\n",
      "The MSE for the third regression: 181.080287533\n",
      "The MSE for all players, using past 10 game fantasy average: 152.218298611\n",
      "The MSE for all players, using the past 3 game fantasy average: 194.905092593\n",
      "Grid search took 0.9456 seconds\n",
      "Grid search took 0.6000 seconds\n",
      "Grid search took 86.3685 seconds\n",
      "Training a DecisionTreeRegressor using a training set size of 185. . .\n",
      "Trained model in 0.0009 seconds\n",
      "Made predictions in 0.0003 seconds.\n",
      "R2 score for training set: 0.0430.\n",
      "Made predictions in 0.0002 seconds.\n",
      "R2 score for test set: -0.0664.\n",
      "Training a SVR using a training set size of 185. . .\n",
      "Trained model in 0.0069 seconds\n",
      "Made predictions in 0.0028 seconds.\n",
      "R2 score for training set: 0.1191.\n",
      "Made predictions in 0.0009 seconds.\n",
      "R2 score for test set: -0.0237.\n",
      "Training a GradientBoostingRegressor using a training set size of 185. . .\n",
      "Trained model in 0.0370 seconds\n",
      "Made predictions in 0.0006 seconds.\n",
      "R2 score for training set: 0.2373.\n",
      "Made predictions in 0.0004 seconds.\n",
      "R2 score for test set: -0.0333.\n",
      "The MSE for the first regression: 117.37538663\n",
      "The MSE for the second regression: 125.518560828\n",
      "The MSE for the third regression: 149.54400809\n",
      "The MSE for all players, using past 10 game fantasy average: 150.748267857\n",
      "The MSE for all players, using the past 3 game fantasy average: 182.767261905\n",
      "Grid search took 0.9326 seconds\n",
      "Grid search took 0.5331 seconds\n",
      "Grid search took 85.6559 seconds\n",
      "Training a DecisionTreeRegressor using a training set size of 172. . .\n",
      "Trained model in 0.0009 seconds\n",
      "Made predictions in 0.0003 seconds.\n",
      "R2 score for training set: 0.0443.\n",
      "Made predictions in 0.0003 seconds.\n",
      "R2 score for test set: -0.0444.\n",
      "Training a SVR using a training set size of 172. . .\n",
      "Trained model in 0.0060 seconds\n",
      "Made predictions in 0.0024 seconds.\n",
      "R2 score for training set: 0.1474.\n",
      "Made predictions in 0.0008 seconds.\n",
      "R2 score for test set: -0.0084.\n",
      "Training a GradientBoostingRegressor using a training set size of 172. . .\n",
      "Trained model in 0.0376 seconds\n",
      "Made predictions in 0.0007 seconds.\n",
      "R2 score for training set: 0.2831.\n",
      "Made predictions in 0.0004 seconds.\n",
      "R2 score for test set: 0.0473.\n",
      "The MSE for the first regression: 95.2801039747\n",
      "The MSE for the second regression: 94.4183298079\n",
      "The MSE for the third regression: 132.770334239\n",
      "The MSE for all players, using past 10 game fantasy average: 106.133925781\n",
      "The MSE for all players, using the past 3 game fantasy average: 158.0625\n"
     ]
    }
   ],
   "source": [
    "player_dict={}\n",
    "for i in top_20_final:\n",
    "    player_dict.update(player_reg(i[0], final_data, final_test_data))"
   ]
  },
  {
   "cell_type": "code",
   "execution_count": 52,
   "metadata": {
    "collapsed": false
   },
   "outputs": [],
   "source": [
    "total_fantasy=0\n",
    "for i in top_20_final:\n",
    "    total_fantasy += i[1]"
   ]
  },
  {
   "cell_type": "code",
   "execution_count": 53,
   "metadata": {
    "collapsed": false
   },
   "outputs": [],
   "source": [
    "reg_mse=0\n",
    "avg10_mse=0\n",
    "for i in top_20_final:\n",
    "    reg_mse += player_dict[i[0]]['best mse']*i[1]/total_fantasy\n",
    "    avg10_mse += player_dict[i[0]]['avg 10 mse']*i[1]/total_fantasy"
   ]
  },
  {
   "cell_type": "code",
   "execution_count": 54,
   "metadata": {
    "collapsed": false
   },
   "outputs": [
    {
     "data": {
      "text/plain": [
       "134.54788168345661"
      ]
     },
     "execution_count": 54,
     "metadata": {},
     "output_type": "execute_result"
    }
   ],
   "source": [
    "reg_mse"
   ]
  },
  {
   "cell_type": "code",
   "execution_count": 55,
   "metadata": {
    "collapsed": false
   },
   "outputs": [
    {
     "data": {
      "text/plain": [
       "138.69382527605725"
      ]
     },
     "execution_count": 55,
     "metadata": {},
     "output_type": "execute_result"
    }
   ],
   "source": [
    "avg10_mse"
   ]
  },
  {
   "cell_type": "code",
   "execution_count": 56,
   "metadata": {
    "collapsed": false
   },
   "outputs": [
    {
     "data": {
      "text/plain": [
       "133.20067476046992"
      ]
     },
     "execution_count": 56,
     "metadata": {},
     "output_type": "execute_result"
    }
   ],
   "source": [
    "sum(player_dict[key]['best mse'] for key, value in player_dict.items())/20"
   ]
  },
  {
   "cell_type": "code",
   "execution_count": 57,
   "metadata": {
    "collapsed": false
   },
   "outputs": [
    {
     "data": {
      "text/plain": [
       "137.273510930691"
      ]
     },
     "execution_count": 57,
     "metadata": {},
     "output_type": "execute_result"
    }
   ],
   "source": [
    "sum(player_dict[key]['avg 10 mse'] for key, value in player_dict.items())/20"
   ]
  },
  {
   "cell_type": "code",
   "execution_count": null,
   "metadata": {
    "collapsed": true
   },
   "outputs": [],
   "source": []
  }
 ],
 "metadata": {
  "anaconda-cloud": {},
  "kernelspec": {
   "display_name": "Python [default]",
   "language": "python",
   "name": "python2"
  },
  "language_info": {
   "codemirror_mode": {
    "name": "ipython",
    "version": 2
   },
   "file_extension": ".py",
   "mimetype": "text/x-python",
   "name": "python",
   "nbconvert_exporter": "python",
   "pygments_lexer": "ipython2",
   "version": "2.7.12"
  }
 },
 "nbformat": 4,
 "nbformat_minor": 1
}
